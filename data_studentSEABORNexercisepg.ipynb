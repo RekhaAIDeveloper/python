{
 "cells": [
  {
   "cell_type": "code",
   "execution_count": 1,
   "id": "5e5676b3-eb21-4e54-8d14-fbd299d209e2",
   "metadata": {},
   "outputs": [],
   "source": [
    "#1.SEABORN \n",
    "#DATASET- STUDENT\n",
    "import pandas as pd\n",
    "from pandas import DataFrame\n",
    "import numpy as np\n",
    "import matplotlib.pyplot as plt\n",
    "%matplotlib qt\n",
    "import seaborn as sns\n"
   ]
  },
  {
   "cell_type": "code",
   "execution_count": 2,
   "id": "7845a46f-b10d-4f76-96c7-ceffc71ea9e9",
   "metadata": {},
   "outputs": [
    {
     "data": {
      "text/html": [
       "<div>\n",
       "<style scoped>\n",
       "    .dataframe tbody tr th:only-of-type {\n",
       "        vertical-align: middle;\n",
       "    }\n",
       "\n",
       "    .dataframe tbody tr th {\n",
       "        vertical-align: top;\n",
       "    }\n",
       "\n",
       "    .dataframe thead th {\n",
       "        text-align: right;\n",
       "    }\n",
       "</style>\n",
       "<table border=\"1\" class=\"dataframe\">\n",
       "  <thead>\n",
       "    <tr style=\"text-align: right;\">\n",
       "      <th></th>\n",
       "      <th>school</th>\n",
       "      <th>sex</th>\n",
       "      <th>age</th>\n",
       "      <th>famsize</th>\n",
       "      <th>Pstatus</th>\n",
       "      <th>Medu</th>\n",
       "      <th>Mjob</th>\n",
       "      <th>reason</th>\n",
       "      <th>traveltime</th>\n",
       "      <th>studytime</th>\n",
       "      <th>freetime</th>\n",
       "      <th>health</th>\n",
       "      <th>absences</th>\n",
       "      <th>G2</th>\n",
       "      <th>G3</th>\n",
       "    </tr>\n",
       "  </thead>\n",
       "  <tbody>\n",
       "    <tr>\n",
       "      <th>0</th>\n",
       "      <td>GP</td>\n",
       "      <td>F</td>\n",
       "      <td>18</td>\n",
       "      <td>GT3</td>\n",
       "      <td>A</td>\n",
       "      <td>4</td>\n",
       "      <td>at_home</td>\n",
       "      <td>course</td>\n",
       "      <td>2</td>\n",
       "      <td>2</td>\n",
       "      <td>3</td>\n",
       "      <td>3</td>\n",
       "      <td>6</td>\n",
       "      <td>6</td>\n",
       "      <td>6</td>\n",
       "    </tr>\n",
       "    <tr>\n",
       "      <th>1</th>\n",
       "      <td>GP</td>\n",
       "      <td>F</td>\n",
       "      <td>17</td>\n",
       "      <td>GT3</td>\n",
       "      <td>T</td>\n",
       "      <td>1</td>\n",
       "      <td>at_home</td>\n",
       "      <td>course</td>\n",
       "      <td>1</td>\n",
       "      <td>2</td>\n",
       "      <td>3</td>\n",
       "      <td>3</td>\n",
       "      <td>4</td>\n",
       "      <td>5</td>\n",
       "      <td>6</td>\n",
       "    </tr>\n",
       "    <tr>\n",
       "      <th>2</th>\n",
       "      <td>GP</td>\n",
       "      <td>F</td>\n",
       "      <td>15</td>\n",
       "      <td>LE3</td>\n",
       "      <td>T</td>\n",
       "      <td>1</td>\n",
       "      <td>at_home</td>\n",
       "      <td>other</td>\n",
       "      <td>1</td>\n",
       "      <td>2</td>\n",
       "      <td>3</td>\n",
       "      <td>3</td>\n",
       "      <td>10</td>\n",
       "      <td>8</td>\n",
       "      <td>10</td>\n",
       "    </tr>\n",
       "    <tr>\n",
       "      <th>3</th>\n",
       "      <td>GP</td>\n",
       "      <td>F</td>\n",
       "      <td>15</td>\n",
       "      <td>GT3</td>\n",
       "      <td>T</td>\n",
       "      <td>4</td>\n",
       "      <td>health</td>\n",
       "      <td>home</td>\n",
       "      <td>1</td>\n",
       "      <td>3</td>\n",
       "      <td>2</td>\n",
       "      <td>5</td>\n",
       "      <td>2</td>\n",
       "      <td>14</td>\n",
       "      <td>15</td>\n",
       "    </tr>\n",
       "    <tr>\n",
       "      <th>4</th>\n",
       "      <td>GP</td>\n",
       "      <td>F</td>\n",
       "      <td>16</td>\n",
       "      <td>GT3</td>\n",
       "      <td>T</td>\n",
       "      <td>3</td>\n",
       "      <td>other</td>\n",
       "      <td>home</td>\n",
       "      <td>1</td>\n",
       "      <td>2</td>\n",
       "      <td>3</td>\n",
       "      <td>5</td>\n",
       "      <td>4</td>\n",
       "      <td>10</td>\n",
       "      <td>10</td>\n",
       "    </tr>\n",
       "  </tbody>\n",
       "</table>\n",
       "</div>"
      ],
      "text/plain": [
       "  school sex  age famsize Pstatus  Medu     Mjob  reason  traveltime  \\\n",
       "0     GP   F   18     GT3       A     4  at_home  course           2   \n",
       "1     GP   F   17     GT3       T     1  at_home  course           1   \n",
       "2     GP   F   15     LE3       T     1  at_home   other           1   \n",
       "3     GP   F   15     GT3       T     4   health    home           1   \n",
       "4     GP   F   16     GT3       T     3    other    home           1   \n",
       "\n",
       "   studytime  freetime  health  absences  G2  G3  \n",
       "0          2         3       3         6   6   6  \n",
       "1          2         3       3         4   5   6  \n",
       "2          2         3       3        10   8  10  \n",
       "3          3         2       5         2  14  15  \n",
       "4          2         3       5         4  10  10  "
      ]
     },
     "execution_count": 2,
     "metadata": {},
     "output_type": "execute_result"
    }
   ],
   "source": [
    "#2. Read the \"data_student.csv\" file using read_csv()\n",
    "#(Hint: indicate ';' as the seperator and indicate not to read in index column) and check its head:\n",
    "students = pd.read_csv('data_student.csv',sep=';',index_col = 0)\n",
    "\n",
    "students.head()"
   ]
  },
  {
   "cell_type": "code",
   "execution_count": 3,
   "id": "99988757-5495-4526-ba0e-17dbc0379ab6",
   "metadata": {},
   "outputs": [
    {
     "name": "stdout",
     "output_type": "stream",
     "text": [
      "<class 'pandas.core.frame.DataFrame'>\n",
      "Index: 395 entries, 0 to 394\n",
      "Data columns (total 15 columns):\n",
      " #   Column      Non-Null Count  Dtype \n",
      "---  ------      --------------  ----- \n",
      " 0   school      395 non-null    object\n",
      " 1   sex         395 non-null    object\n",
      " 2   age         395 non-null    int64 \n",
      " 3   famsize     395 non-null    object\n",
      " 4   Pstatus     395 non-null    object\n",
      " 5   Medu        395 non-null    int64 \n",
      " 6   Mjob        395 non-null    object\n",
      " 7   reason      395 non-null    object\n",
      " 8   traveltime  395 non-null    int64 \n",
      " 9   studytime   395 non-null    int64 \n",
      " 10  freetime    395 non-null    int64 \n",
      " 11  health      395 non-null    int64 \n",
      " 12  absences    395 non-null    int64 \n",
      " 13  G2          395 non-null    int64 \n",
      " 14  G3          395 non-null    int64 \n",
      "dtypes: int64(9), object(6)\n",
      "memory usage: 49.4+ KB\n"
     ]
    }
   ],
   "source": [
    "#3.GET INFORMATION ABOUT DATAFRAME\n",
    "students.info()"
   ]
  },
  {
   "cell_type": "markdown",
   "id": "0a6de93e-919a-4979-89a2-3249f3be6c1b",
   "metadata": {},
   "source": [
    "4.Plot the number of students for each school and categorize it by sex:\n",
    "Hint: countplot"
   ]
  },
  {
   "cell_type": "code",
   "execution_count": 4,
   "id": "f1007cce-58e6-45a1-8d27-e8d5ce6a1c59",
   "metadata": {},
   "outputs": [
    {
     "data": {
      "text/plain": [
       "<Axes: xlabel='school', ylabel='count'>"
      ]
     },
     "execution_count": 4,
     "metadata": {},
     "output_type": "execute_result"
    }
   ],
   "source": [
    "sns.countplot(x='school',data=students,hue='sex')"
   ]
  },
  {
   "cell_type": "markdown",
   "id": "21360a8c-6c61-459d-beec-7425617f7545",
   "metadata": {},
   "source": [
    "5.Plot age distribution of the students (include kde):"
   ]
  },
  {
   "cell_type": "code",
   "execution_count": 44,
   "id": "72eb0d6b-09ea-4fc5-928a-37b563acb15c",
   "metadata": {},
   "outputs": [
    {
     "name": "stderr",
     "output_type": "stream",
     "text": [
      "C:\\Users\\SASI REKHA\\AppData\\Local\\Temp\\ipykernel_3844\\3784424948.py:1: UserWarning: \n",
      "\n",
      "`distplot` is a deprecated function and will be removed in seaborn v0.14.0.\n",
      "\n",
      "Please adapt your code to use either `displot` (a figure-level function with\n",
      "similar flexibility) or `histplot` (an axes-level function for histograms).\n",
      "\n",
      "For a guide to updating your code to use the new functions, please see\n",
      "https://gist.github.com/mwaskom/de44147ed2974457ad6372750bbe5751\n",
      "\n",
      "  sns.distplot(students['age'],kde=True,bins=10)\n"
     ]
    },
    {
     "data": {
      "text/plain": [
       "<Axes: xlabel='age', ylabel='Density'>"
      ]
     },
     "execution_count": 44,
     "metadata": {},
     "output_type": "execute_result"
    }
   ],
   "source": [
    "sns.distplot(students['age'],kde=True,bins=10)"
   ]
  },
  {
   "cell_type": "markdown",
   "id": "7a87856a-31b7-417b-9806-ef153bd31d58",
   "metadata": {},
   "source": [
    "6. Plot average of students for each school:"
   ]
  },
  {
   "cell_type": "code",
   "execution_count": 9,
   "id": "be881f97-e29e-49cc-a642-87075531ac8f",
   "metadata": {},
   "outputs": [
    {
     "data": {
      "text/plain": [
       "<Axes: xlabel='school', ylabel='age'>"
      ]
     },
     "execution_count": 9,
     "metadata": {},
     "output_type": "execute_result"
    }
   ],
   "source": [
    "sns.barplot(x='school',y='age',data=students)"
   ]
  },
  {
   "cell_type": "markdown",
   "id": "8b13ad2c-79fc-483c-bbed-681492da44a6",
   "metadata": {},
   "source": [
    "7. Plot the quartiles of final grade (G3) of the students catogorized by mother's education (Medu):\n",
    "Hint: boxplot\n",
    "Info:\n",
    "\n",
    "0 - None\n",
    "\n",
    "1 - primary education (4th grade),\n",
    "\n",
    "2 – 5th to 9th grade,\n",
    "\n",
    "3 – secondary education\n",
    "\n",
    "4 – higher education"
   ]
  },
  {
   "cell_type": "code",
   "execution_count": 11,
   "id": "290aa746-5cd5-4f64-87a4-baef33d9fa72",
   "metadata": {},
   "outputs": [
    {
     "data": {
      "text/plain": [
       "<Axes: xlabel='Medu', ylabel='G3'>"
      ]
     },
     "execution_count": 11,
     "metadata": {},
     "output_type": "execute_result"
    }
   ],
   "source": [
    "sns.boxplot(x='Medu',y='G3',data=students)"
   ]
  },
  {
   "cell_type": "markdown",
   "id": "235bd731-c47c-48d7-bf4c-a424e803d776",
   "metadata": {},
   "source": [
    "#8. Plot probability density with regards to final grade (G3) and mother's job (Mjob)\n",
    "and consider sex by selecting split = True:\n",
    "Hint: violinplot"
   ]
  },
  {
   "cell_type": "code",
   "execution_count": 45,
   "id": "762812b4-48c1-42ee-8389-32858b0ac523",
   "metadata": {},
   "outputs": [
    {
     "data": {
      "text/plain": [
       "<Axes: xlabel='Mjob', ylabel='G3'>"
      ]
     },
     "execution_count": 45,
     "metadata": {},
     "output_type": "execute_result"
    }
   ],
   "source": [
    "sns.violinplot(x='Mjob',y='G3',data=students,hue='sex',split=True)"
   ]
  },
  {
   "cell_type": "markdown",
   "id": "960267e8-e289-4259-9bbd-b93b8a2d4537",
   "metadata": {},
   "source": [
    "9. Plot density distribution of the grades (both G2,G3 on the same canvas) with regards \n",
    "to health but this time we want to see every data as a point in our plot:\n",
    "Hint: swarm plot, subplot\n",
    "Info: health status (numeric: from 1 - very bad to 5 - very good)"
   ]
  },
  {
   "cell_type": "code",
   "execution_count": 46,
   "id": "0ed244bb-2cd7-41dc-a701-62b7c8a53bf5",
   "metadata": {},
   "outputs": [
    {
     "name": "stderr",
     "output_type": "stream",
     "text": [
      "C:\\Users\\SASI REKHA\\anaconda3\\Lib\\site-packages\\seaborn\\categorical.py:3399: UserWarning: 19.9% of the points cannot be placed; you may want to decrease the size of the markers or use stripplot.\n",
      "  warnings.warn(msg, UserWarning)\n",
      "C:\\Users\\SASI REKHA\\anaconda3\\Lib\\site-packages\\seaborn\\categorical.py:3399: UserWarning: 19.9% of the points cannot be placed; you may want to decrease the size of the markers or use stripplot.\n",
      "  warnings.warn(msg, UserWarning)\n",
      "C:\\Users\\SASI REKHA\\anaconda3\\Lib\\site-packages\\seaborn\\categorical.py:3399: UserWarning: 7.7% of the points cannot be placed; you may want to decrease the size of the markers or use stripplot.\n",
      "  warnings.warn(msg, UserWarning)\n",
      "C:\\Users\\SASI REKHA\\anaconda3\\Lib\\site-packages\\seaborn\\categorical.py:3399: UserWarning: 17.8% of the points cannot be placed; you may want to decrease the size of the markers or use stripplot.\n",
      "  warnings.warn(msg, UserWarning)\n"
     ]
    },
    {
     "data": {
      "text/plain": [
       "<Axes: xlabel='health', ylabel='G3'>"
      ]
     },
     "execution_count": 46,
     "metadata": {},
     "output_type": "execute_result"
    }
   ],
   "source": [
    "fig, axes = plt.subplots(1,2,figsize=(13,5))\n",
    "\n",
    "sns.swarmplot(x='health',y='G2',data=students,ax=axes[0])\n",
    "sns.swarmplot(x='health',y='G3',data=students,ax=axes[1])\n"
   ]
  },
  {
   "cell_type": "markdown",
   "id": "f197e414-40b0-4450-8208-d97313035023",
   "metadata": {},
   "source": [
    "10.Do the same for the absences and travel time (single plot is enough):"
   ]
  },
  {
   "cell_type": "code",
   "execution_count": 24,
   "id": "b4f36286-360b-436b-a66c-645cf2010c47",
   "metadata": {},
   "outputs": [
    {
     "name": "stderr",
     "output_type": "stream",
     "text": [
      "C:\\Users\\SASI REKHA\\anaconda3\\Lib\\site-packages\\seaborn\\categorical.py:3399: UserWarning: 44.7% of the points cannot be placed; you may want to decrease the size of the markers or use stripplot.\n",
      "  warnings.warn(msg, UserWarning)\n",
      "C:\\Users\\SASI REKHA\\anaconda3\\Lib\\site-packages\\seaborn\\categorical.py:3399: UserWarning: 19.6% of the points cannot be placed; you may want to decrease the size of the markers or use stripplot.\n",
      "  warnings.warn(msg, UserWarning)\n"
     ]
    },
    {
     "data": {
      "text/plain": [
       "<Axes: xlabel='traveltime', ylabel='absences'>"
      ]
     },
     "execution_count": 24,
     "metadata": {},
     "output_type": "execute_result"
    },
    {
     "name": "stderr",
     "output_type": "stream",
     "text": [
      "C:\\Users\\SASI REKHA\\anaconda3\\Lib\\site-packages\\seaborn\\categorical.py:3399: UserWarning: 51.4% of the points cannot be placed; you may want to decrease the size of the markers or use stripplot.\n",
      "  warnings.warn(msg, UserWarning)\n",
      "C:\\Users\\SASI REKHA\\anaconda3\\Lib\\site-packages\\seaborn\\categorical.py:3399: UserWarning: 27.1% of the points cannot be placed; you may want to decrease the size of the markers or use stripplot.\n",
      "  warnings.warn(msg, UserWarning)\n"
     ]
    }
   ],
   "source": [
    "sns.swarmplot(x='traveltime',y='absences',data=students)"
   ]
  },
  {
   "cell_type": "markdown",
   "id": "c573c574-8eb7-4be0-82e6-80434f8665f1",
   "metadata": {},
   "source": [
    "11. Plot the final grade (G3) with respect to parental status(Pstatus) and family size (famsize)\n",
    " using FacetGrid and distplot (set kde=False):\n",
    "Info:\n",
    "\n",
    "LE3 - less than and equal to 3\n",
    "\n",
    "GT3 - greater than 3\n",
    "\n",
    "A - Apart\n",
    "\n",
    "T - Together"
   ]
  },
  {
   "cell_type": "code",
   "execution_count": 28,
   "id": "eb7f3b14-7214-4273-85ee-435382bf3d2b",
   "metadata": {},
   "outputs": [
    {
     "name": "stderr",
     "output_type": "stream",
     "text": [
      "C:\\Users\\SASI REKHA\\anaconda3\\Lib\\site-packages\\seaborn\\axisgrid.py:854: UserWarning: \n",
      "\n",
      "`distplot` is a deprecated function and will be removed in seaborn v0.14.0.\n",
      "\n",
      "Please adapt your code to use either `displot` (a figure-level function with\n",
      "similar flexibility) or `histplot` (an axes-level function for histograms).\n",
      "\n",
      "For a guide to updating your code to use the new functions, please see\n",
      "https://gist.github.com/mwaskom/de44147ed2974457ad6372750bbe5751\n",
      "\n",
      "  func(*plot_args, **plot_kwargs)\n",
      "C:\\Users\\SASI REKHA\\anaconda3\\Lib\\site-packages\\seaborn\\axisgrid.py:854: UserWarning: \n",
      "\n",
      "`distplot` is a deprecated function and will be removed in seaborn v0.14.0.\n",
      "\n",
      "Please adapt your code to use either `displot` (a figure-level function with\n",
      "similar flexibility) or `histplot` (an axes-level function for histograms).\n",
      "\n",
      "For a guide to updating your code to use the new functions, please see\n",
      "https://gist.github.com/mwaskom/de44147ed2974457ad6372750bbe5751\n",
      "\n",
      "  func(*plot_args, **plot_kwargs)\n",
      "C:\\Users\\SASI REKHA\\anaconda3\\Lib\\site-packages\\seaborn\\axisgrid.py:854: UserWarning: \n",
      "\n",
      "`distplot` is a deprecated function and will be removed in seaborn v0.14.0.\n",
      "\n",
      "Please adapt your code to use either `displot` (a figure-level function with\n",
      "similar flexibility) or `histplot` (an axes-level function for histograms).\n",
      "\n",
      "For a guide to updating your code to use the new functions, please see\n",
      "https://gist.github.com/mwaskom/de44147ed2974457ad6372750bbe5751\n",
      "\n",
      "  func(*plot_args, **plot_kwargs)\n",
      "C:\\Users\\SASI REKHA\\anaconda3\\Lib\\site-packages\\seaborn\\axisgrid.py:854: UserWarning: \n",
      "\n",
      "`distplot` is a deprecated function and will be removed in seaborn v0.14.0.\n",
      "\n",
      "Please adapt your code to use either `displot` (a figure-level function with\n",
      "similar flexibility) or `histplot` (an axes-level function for histograms).\n",
      "\n",
      "For a guide to updating your code to use the new functions, please see\n",
      "https://gist.github.com/mwaskom/de44147ed2974457ad6372750bbe5751\n",
      "\n",
      "  func(*plot_args, **plot_kwargs)\n"
     ]
    },
    {
     "data": {
      "text/plain": [
       "<seaborn.axisgrid.FacetGrid at 0x226d53996d0>"
      ]
     },
     "execution_count": 28,
     "metadata": {},
     "output_type": "execute_result"
    }
   ],
   "source": [
    "bill=sns.FacetGrid(students,row='Pstatus',col='famsize')\n",
    "bill.map(sns.distplot,'G3',kde=True)"
   ]
  },
  {
   "cell_type": "markdown",
   "id": "bba8d50e-9f4a-492e-900f-409d127aad84",
   "metadata": {},
   "source": [
    "12. Plot a categorical relationship between study time (studytime) and mean of final grade (G3) and categorize by parental status:\n",
    "Hint: barplot"
   ]
  },
  {
   "cell_type": "code",
   "execution_count": 31,
   "id": "e33ab295-01e8-481b-9a6e-c092463a18b8",
   "metadata": {},
   "outputs": [
    {
     "data": {
      "text/plain": [
       "<Axes: xlabel='studytime', ylabel='G3'>"
      ]
     },
     "execution_count": 31,
     "metadata": {},
     "output_type": "execute_result"
    }
   ],
   "source": [
    "sns.barplot(x='studytime',y='G3',data=students,hue='Pstatus')"
   ]
  },
  {
   "cell_type": "markdown",
   "id": "03d8d4e5-0a56-4f16-8175-a5a2d59e75b9",
   "metadata": {},
   "source": [
    "13.Plot the relationship between max. midterm grade (G2) and reason for choosing the school (reason) \n",
    "and categorize it by sex:\n",
    "Hint: We need bar plot but let us use catplot to reach the same plot"
   ]
  },
  {
   "cell_type": "code",
   "execution_count": 47,
   "id": "6468ec3a-02f6-4db2-a1f6-eeaa9e7c4c6a",
   "metadata": {},
   "outputs": [
    {
     "data": {
      "text/plain": [
       "<seaborn.axisgrid.FacetGrid at 0x226d792ec10>"
      ]
     },
     "execution_count": 47,
     "metadata": {},
     "output_type": "execute_result"
    }
   ],
   "source": [
    "sns.catplot(x='reason',y='G2',data=students,kind='bar',estimator=np.max,hue='sex')"
   ]
  },
  {
   "cell_type": "markdown",
   "id": "8e1b8f37-8297-47b0-b08a-6ca6578bd06f",
   "metadata": {},
   "source": [
    "14. Plot the distribution of the final grade (G3) of the students using kde.\n",
    "Plot for both gender type on the same plot:\n",
    "Hint: distplot using logical masking could come in handy.\n",
    "students[students['sex']=='M']['G3']\n",
    "students[students['sex']=='F']['G3']"
   ]
  },
  {
   "cell_type": "code",
   "execution_count": 50,
   "id": "f7d866b2-3c7c-4e5c-a93c-c18f0105267f",
   "metadata": {},
   "outputs": [
    {
     "name": "stderr",
     "output_type": "stream",
     "text": [
      "C:\\Users\\SASI REKHA\\AppData\\Local\\Temp\\ipykernel_3844\\1576439393.py:1: UserWarning: \n",
      "\n",
      "`distplot` is a deprecated function and will be removed in seaborn v0.14.0.\n",
      "\n",
      "Please adapt your code to use either `displot` (a figure-level function with\n",
      "similar flexibility) or `kdeplot` (an axes-level function for kernel density plots).\n",
      "\n",
      "For a guide to updating your code to use the new functions, please see\n",
      "https://gist.github.com/mwaskom/de44147ed2974457ad6372750bbe5751\n",
      "\n",
      "  sns.distplot(students[students['sex']=='M']['G3'],label='Male',hist=False)\n",
      "C:\\Users\\SASI REKHA\\AppData\\Local\\Temp\\ipykernel_3844\\1576439393.py:2: UserWarning: \n",
      "\n",
      "`distplot` is a deprecated function and will be removed in seaborn v0.14.0.\n",
      "\n",
      "Please adapt your code to use either `displot` (a figure-level function with\n",
      "similar flexibility) or `kdeplot` (an axes-level function for kernel density plots).\n",
      "\n",
      "For a guide to updating your code to use the new functions, please see\n",
      "https://gist.github.com/mwaskom/de44147ed2974457ad6372750bbe5751\n",
      "\n",
      "  sns.distplot(students[students['sex']=='F']['G3'],label='Female',hist=False)\n"
     ]
    },
    {
     "data": {
      "text/plain": [
       "<Axes: xlabel='G3', ylabel='Density'>"
      ]
     },
     "execution_count": 50,
     "metadata": {},
     "output_type": "execute_result"
    }
   ],
   "source": [
    "sns.distplot(students[students['sex']=='M']['G3'],label='Male',hist=False)\n",
    "sns.distplot(students[students['sex']=='F']['G3'],label='Female',hist=False)"
   ]
  },
  {
   "cell_type": "markdown",
   "id": "5f01e3f5-8219-49ce-bddd-f59d2d4265c4",
   "metadata": {},
   "source": [
    "15. This time plot the distribution of midterm grade (G2) using kde together for each freetime amount:\n",
    "Hint: Previously we had 2 plots together. This time we have 5, so let's use for loop instead"
   ]
  },
  {
   "cell_type": "code",
   "execution_count": 51,
   "id": "37e0d430-600d-4718-b78a-9512eee9ee3e",
   "metadata": {},
   "outputs": [
    {
     "name": "stderr",
     "output_type": "stream",
     "text": [
      "C:\\Users\\SASI REKHA\\AppData\\Local\\Temp\\ipykernel_3844\\1226642807.py:2: UserWarning: \n",
      "\n",
      "`distplot` is a deprecated function and will be removed in seaborn v0.14.0.\n",
      "\n",
      "Please adapt your code to use either `displot` (a figure-level function with\n",
      "similar flexibility) or `kdeplot` (an axes-level function for kernel density plots).\n",
      "\n",
      "For a guide to updating your code to use the new functions, please see\n",
      "https://gist.github.com/mwaskom/de44147ed2974457ad6372750bbe5751\n",
      "\n",
      "  sns.distplot(students[students['freetime']==time]['G3'],label=time,hist=False)\n",
      "C:\\Users\\SASI REKHA\\AppData\\Local\\Temp\\ipykernel_3844\\1226642807.py:2: UserWarning: \n",
      "\n",
      "`distplot` is a deprecated function and will be removed in seaborn v0.14.0.\n",
      "\n",
      "Please adapt your code to use either `displot` (a figure-level function with\n",
      "similar flexibility) or `kdeplot` (an axes-level function for kernel density plots).\n",
      "\n",
      "For a guide to updating your code to use the new functions, please see\n",
      "https://gist.github.com/mwaskom/de44147ed2974457ad6372750bbe5751\n",
      "\n",
      "  sns.distplot(students[students['freetime']==time]['G3'],label=time,hist=False)\n",
      "C:\\Users\\SASI REKHA\\AppData\\Local\\Temp\\ipykernel_3844\\1226642807.py:2: UserWarning: \n",
      "\n",
      "`distplot` is a deprecated function and will be removed in seaborn v0.14.0.\n",
      "\n",
      "Please adapt your code to use either `displot` (a figure-level function with\n",
      "similar flexibility) or `kdeplot` (an axes-level function for kernel density plots).\n",
      "\n",
      "For a guide to updating your code to use the new functions, please see\n",
      "https://gist.github.com/mwaskom/de44147ed2974457ad6372750bbe5751\n",
      "\n",
      "  sns.distplot(students[students['freetime']==time]['G3'],label=time,hist=False)\n",
      "C:\\Users\\SASI REKHA\\AppData\\Local\\Temp\\ipykernel_3844\\1226642807.py:2: UserWarning: \n",
      "\n",
      "`distplot` is a deprecated function and will be removed in seaborn v0.14.0.\n",
      "\n",
      "Please adapt your code to use either `displot` (a figure-level function with\n",
      "similar flexibility) or `kdeplot` (an axes-level function for kernel density plots).\n",
      "\n",
      "For a guide to updating your code to use the new functions, please see\n",
      "https://gist.github.com/mwaskom/de44147ed2974457ad6372750bbe5751\n",
      "\n",
      "  sns.distplot(students[students['freetime']==time]['G3'],label=time,hist=False)\n",
      "C:\\Users\\SASI REKHA\\AppData\\Local\\Temp\\ipykernel_3844\\1226642807.py:2: UserWarning: \n",
      "\n",
      "`distplot` is a deprecated function and will be removed in seaborn v0.14.0.\n",
      "\n",
      "Please adapt your code to use either `displot` (a figure-level function with\n",
      "similar flexibility) or `kdeplot` (an axes-level function for kernel density plots).\n",
      "\n",
      "For a guide to updating your code to use the new functions, please see\n",
      "https://gist.github.com/mwaskom/de44147ed2974457ad6372750bbe5751\n",
      "\n",
      "  sns.distplot(students[students['freetime']==time]['G3'],label=time,hist=False)\n"
     ]
    }
   ],
   "source": [
    "for time in students['freetime'].unique():\n",
    "    sns.distplot(students[students['freetime']==time]['G3'],label=time,hist=False)"
   ]
  },
  {
   "cell_type": "markdown",
   "id": "9eb95aae-bca7-419b-abfd-c71b42c3e5a5",
   "metadata": {},
   "source": [
    "16. Create a jointplot for relationship between midterm (G2) and final grades (G3) with kde:\n",
    " "
   ]
  },
  {
   "cell_type": "code",
   "execution_count": 41,
   "id": "f99e6620-74b5-4b88-ad6d-54aeab82b81b",
   "metadata": {},
   "outputs": [
    {
     "data": {
      "text/html": [
       "<div>\n",
       "<style scoped>\n",
       "    .dataframe tbody tr th:only-of-type {\n",
       "        vertical-align: middle;\n",
       "    }\n",
       "\n",
       "    .dataframe tbody tr th {\n",
       "        vertical-align: top;\n",
       "    }\n",
       "\n",
       "    .dataframe thead th {\n",
       "        text-align: right;\n",
       "    }\n",
       "</style>\n",
       "<table border=\"1\" class=\"dataframe\">\n",
       "  <thead>\n",
       "    <tr style=\"text-align: right;\">\n",
       "      <th></th>\n",
       "      <th>school</th>\n",
       "      <th>sex</th>\n",
       "      <th>age</th>\n",
       "      <th>famsize</th>\n",
       "      <th>Pstatus</th>\n",
       "      <th>Medu</th>\n",
       "      <th>Mjob</th>\n",
       "      <th>reason</th>\n",
       "      <th>traveltime</th>\n",
       "      <th>studytime</th>\n",
       "      <th>freetime</th>\n",
       "      <th>health</th>\n",
       "      <th>absences</th>\n",
       "      <th>G2</th>\n",
       "      <th>G3</th>\n",
       "    </tr>\n",
       "  </thead>\n",
       "  <tbody>\n",
       "    <tr>\n",
       "      <th>0</th>\n",
       "      <td>GP</td>\n",
       "      <td>F</td>\n",
       "      <td>18</td>\n",
       "      <td>GT3</td>\n",
       "      <td>A</td>\n",
       "      <td>4</td>\n",
       "      <td>at_home</td>\n",
       "      <td>course</td>\n",
       "      <td>2</td>\n",
       "      <td>2</td>\n",
       "      <td>3</td>\n",
       "      <td>3</td>\n",
       "      <td>6</td>\n",
       "      <td>6</td>\n",
       "      <td>6</td>\n",
       "    </tr>\n",
       "    <tr>\n",
       "      <th>1</th>\n",
       "      <td>GP</td>\n",
       "      <td>F</td>\n",
       "      <td>17</td>\n",
       "      <td>GT3</td>\n",
       "      <td>T</td>\n",
       "      <td>1</td>\n",
       "      <td>at_home</td>\n",
       "      <td>course</td>\n",
       "      <td>1</td>\n",
       "      <td>2</td>\n",
       "      <td>3</td>\n",
       "      <td>3</td>\n",
       "      <td>4</td>\n",
       "      <td>5</td>\n",
       "      <td>6</td>\n",
       "    </tr>\n",
       "    <tr>\n",
       "      <th>2</th>\n",
       "      <td>GP</td>\n",
       "      <td>F</td>\n",
       "      <td>15</td>\n",
       "      <td>LE3</td>\n",
       "      <td>T</td>\n",
       "      <td>1</td>\n",
       "      <td>at_home</td>\n",
       "      <td>other</td>\n",
       "      <td>1</td>\n",
       "      <td>2</td>\n",
       "      <td>3</td>\n",
       "      <td>3</td>\n",
       "      <td>10</td>\n",
       "      <td>8</td>\n",
       "      <td>10</td>\n",
       "    </tr>\n",
       "    <tr>\n",
       "      <th>3</th>\n",
       "      <td>GP</td>\n",
       "      <td>F</td>\n",
       "      <td>15</td>\n",
       "      <td>GT3</td>\n",
       "      <td>T</td>\n",
       "      <td>4</td>\n",
       "      <td>health</td>\n",
       "      <td>home</td>\n",
       "      <td>1</td>\n",
       "      <td>3</td>\n",
       "      <td>2</td>\n",
       "      <td>5</td>\n",
       "      <td>2</td>\n",
       "      <td>14</td>\n",
       "      <td>15</td>\n",
       "    </tr>\n",
       "    <tr>\n",
       "      <th>4</th>\n",
       "      <td>GP</td>\n",
       "      <td>F</td>\n",
       "      <td>16</td>\n",
       "      <td>GT3</td>\n",
       "      <td>T</td>\n",
       "      <td>3</td>\n",
       "      <td>other</td>\n",
       "      <td>home</td>\n",
       "      <td>1</td>\n",
       "      <td>2</td>\n",
       "      <td>3</td>\n",
       "      <td>5</td>\n",
       "      <td>4</td>\n",
       "      <td>10</td>\n",
       "      <td>10</td>\n",
       "    </tr>\n",
       "    <tr>\n",
       "      <th>...</th>\n",
       "      <td>...</td>\n",
       "      <td>...</td>\n",
       "      <td>...</td>\n",
       "      <td>...</td>\n",
       "      <td>...</td>\n",
       "      <td>...</td>\n",
       "      <td>...</td>\n",
       "      <td>...</td>\n",
       "      <td>...</td>\n",
       "      <td>...</td>\n",
       "      <td>...</td>\n",
       "      <td>...</td>\n",
       "      <td>...</td>\n",
       "      <td>...</td>\n",
       "      <td>...</td>\n",
       "    </tr>\n",
       "    <tr>\n",
       "      <th>390</th>\n",
       "      <td>MS</td>\n",
       "      <td>M</td>\n",
       "      <td>20</td>\n",
       "      <td>LE3</td>\n",
       "      <td>A</td>\n",
       "      <td>2</td>\n",
       "      <td>services</td>\n",
       "      <td>course</td>\n",
       "      <td>1</td>\n",
       "      <td>2</td>\n",
       "      <td>5</td>\n",
       "      <td>4</td>\n",
       "      <td>11</td>\n",
       "      <td>9</td>\n",
       "      <td>9</td>\n",
       "    </tr>\n",
       "    <tr>\n",
       "      <th>391</th>\n",
       "      <td>MS</td>\n",
       "      <td>M</td>\n",
       "      <td>17</td>\n",
       "      <td>LE3</td>\n",
       "      <td>T</td>\n",
       "      <td>3</td>\n",
       "      <td>services</td>\n",
       "      <td>course</td>\n",
       "      <td>2</td>\n",
       "      <td>1</td>\n",
       "      <td>4</td>\n",
       "      <td>2</td>\n",
       "      <td>3</td>\n",
       "      <td>16</td>\n",
       "      <td>16</td>\n",
       "    </tr>\n",
       "    <tr>\n",
       "      <th>392</th>\n",
       "      <td>MS</td>\n",
       "      <td>M</td>\n",
       "      <td>21</td>\n",
       "      <td>GT3</td>\n",
       "      <td>T</td>\n",
       "      <td>1</td>\n",
       "      <td>other</td>\n",
       "      <td>course</td>\n",
       "      <td>1</td>\n",
       "      <td>1</td>\n",
       "      <td>5</td>\n",
       "      <td>3</td>\n",
       "      <td>3</td>\n",
       "      <td>8</td>\n",
       "      <td>7</td>\n",
       "    </tr>\n",
       "    <tr>\n",
       "      <th>393</th>\n",
       "      <td>MS</td>\n",
       "      <td>M</td>\n",
       "      <td>18</td>\n",
       "      <td>LE3</td>\n",
       "      <td>T</td>\n",
       "      <td>3</td>\n",
       "      <td>services</td>\n",
       "      <td>course</td>\n",
       "      <td>3</td>\n",
       "      <td>1</td>\n",
       "      <td>4</td>\n",
       "      <td>5</td>\n",
       "      <td>0</td>\n",
       "      <td>12</td>\n",
       "      <td>10</td>\n",
       "    </tr>\n",
       "    <tr>\n",
       "      <th>394</th>\n",
       "      <td>MS</td>\n",
       "      <td>M</td>\n",
       "      <td>19</td>\n",
       "      <td>LE3</td>\n",
       "      <td>T</td>\n",
       "      <td>1</td>\n",
       "      <td>other</td>\n",
       "      <td>course</td>\n",
       "      <td>1</td>\n",
       "      <td>1</td>\n",
       "      <td>2</td>\n",
       "      <td>5</td>\n",
       "      <td>5</td>\n",
       "      <td>9</td>\n",
       "      <td>9</td>\n",
       "    </tr>\n",
       "  </tbody>\n",
       "</table>\n",
       "<p>395 rows × 15 columns</p>\n",
       "</div>"
      ],
      "text/plain": [
       "    school sex  age famsize Pstatus  Medu      Mjob  reason  traveltime  \\\n",
       "0       GP   F   18     GT3       A     4   at_home  course           2   \n",
       "1       GP   F   17     GT3       T     1   at_home  course           1   \n",
       "2       GP   F   15     LE3       T     1   at_home   other           1   \n",
       "3       GP   F   15     GT3       T     4    health    home           1   \n",
       "4       GP   F   16     GT3       T     3     other    home           1   \n",
       "..     ...  ..  ...     ...     ...   ...       ...     ...         ...   \n",
       "390     MS   M   20     LE3       A     2  services  course           1   \n",
       "391     MS   M   17     LE3       T     3  services  course           2   \n",
       "392     MS   M   21     GT3       T     1     other  course           1   \n",
       "393     MS   M   18     LE3       T     3  services  course           3   \n",
       "394     MS   M   19     LE3       T     1     other  course           1   \n",
       "\n",
       "     studytime  freetime  health  absences  G2  G3  \n",
       "0            2         3       3         6   6   6  \n",
       "1            2         3       3         4   5   6  \n",
       "2            2         3       3        10   8  10  \n",
       "3            3         2       5         2  14  15  \n",
       "4            2         3       5         4  10  10  \n",
       "..         ...       ...     ...       ...  ..  ..  \n",
       "390          2         5       4        11   9   9  \n",
       "391          1         4       2         3  16  16  \n",
       "392          1         5       3         3   8   7  \n",
       "393          1         4       5         0  12  10  \n",
       "394          1         2       5         5   9   9  \n",
       "\n",
       "[395 rows x 15 columns]"
      ]
     },
     "execution_count": 41,
     "metadata": {},
     "output_type": "execute_result"
    }
   ],
   "source": [
    "students\n"
   ]
  },
  {
   "cell_type": "code",
   "execution_count": 52,
   "id": "366ee844-40c1-40fc-a014-1133f48898c2",
   "metadata": {},
   "outputs": [
    {
     "data": {
      "text/plain": [
       "<seaborn.axisgrid.JointGrid at 0x226d75706e0>"
      ]
     },
     "execution_count": 52,
     "metadata": {},
     "output_type": "execute_result"
    }
   ],
   "source": [
    "sns.jointplot(x='G2',y='G3',data=students,kind='kde')"
   ]
  },
  {
   "cell_type": "markdown",
   "id": "212b9257-59ab-42b7-83c5-aec3a10b667a",
   "metadata": {},
   "source": [
    "17. Let's do the same for absences and midterm grade (G2) but this time with hex:"
   ]
  },
  {
   "cell_type": "code",
   "execution_count": 54,
   "id": "663ab29b-2d57-4025-b010-499da26e5d8c",
   "metadata": {},
   "outputs": [
    {
     "data": {
      "text/plain": [
       "<seaborn.axisgrid.JointGrid at 0x226cdbe1bd0>"
      ]
     },
     "execution_count": 54,
     "metadata": {},
     "output_type": "execute_result"
    }
   ],
   "source": [
    "sns.jointplot(x='absences',y='G2',data=students,kind='hex')"
   ]
  },
  {
   "cell_type": "code",
   "execution_count": null,
   "id": "c8cb26b1-25d9-427d-ba46-008e8cda62f6",
   "metadata": {},
   "outputs": [],
   "source": [
    "18. Plot the relationship between midterm (G2), final (G3) grade and absences:\n",
    "Hint: we have more than 2 columns to pair."
   ]
  },
  {
   "cell_type": "code",
   "execution_count": 55,
   "id": "31308be5-0acb-4fcd-9696-c7c10676db95",
   "metadata": {},
   "outputs": [
    {
     "data": {
      "text/plain": [
       "<seaborn.axisgrid.PairGrid at 0x226cbf73e00>"
      ]
     },
     "execution_count": 55,
     "metadata": {},
     "output_type": "execute_result"
    }
   ],
   "source": [
    "sns.pairplot(students[['G2','G3','absences']])"
   ]
  },
  {
   "cell_type": "code",
   "execution_count": null,
   "id": "f7e7eae8-4b6d-4481-8d06-d51d3065bdb3",
   "metadata": {},
   "outputs": [],
   "source": []
  }
 ],
 "metadata": {
  "kernelspec": {
   "display_name": "Python 3 (ipykernel)",
   "language": "python",
   "name": "python3"
  },
  "language_info": {
   "codemirror_mode": {
    "name": "ipython",
    "version": 3
   },
   "file_extension": ".py",
   "mimetype": "text/x-python",
   "name": "python",
   "nbconvert_exporter": "python",
   "pygments_lexer": "ipython3",
   "version": "3.13.5"
  }
 },
 "nbformat": 4,
 "nbformat_minor": 5
}
